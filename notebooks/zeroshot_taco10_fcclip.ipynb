{
  "cells": [
    {
      "cell_type": "code",
      "execution_count": null,
      "metadata": {
        "id": "Nw-R4vGpxEHg"
      },
      "outputs": [],
      "source": [
        "from google.colab import drive\n",
        "drive.mount(\"/content/drive\")"
      ]
    },
    {
      "cell_type": "code",
      "execution_count": null,
      "metadata": {
        "collapsed": true,
        "id": "IklOkpH8yVxW"
      },
      "outputs": [],
      "source": [
        "!python -m pip install 'git+https://github.com/facebookresearch/detectron2.git'\n",
        "%pip install git+https://github.com/cocodataset/panopticapi.git\n",
        "!git clone https://github.com/bytedance/fc-clip.git"
      ]
    },
    {
      "cell_type": "code",
      "execution_count": null,
      "metadata": {
        "id": "ylL4Ns0J0fpB"
      },
      "outputs": [],
      "source": [
        "%cd fc-clip\n",
        "%pip install -r requirements.txt"
      ]
    },
    {
      "cell_type": "code",
      "execution_count": null,
      "metadata": {
        "id": "4B_WtaSz1dJN"
      },
      "outputs": [],
      "source": [
        "%cd fcclip/modeling/pixel_decoder/ops"
      ]
    },
    {
      "cell_type": "code",
      "execution_count": null,
      "metadata": {
        "id": "GWqtS_QK1f8i"
      },
      "outputs": [],
      "source": [
        "!sh make.sh"
      ]
    },
    {
      "cell_type": "code",
      "execution_count": null,
      "metadata": {
        "id": "ofqDRU0V1fj-"
      },
      "outputs": [],
      "source": [
        "%cd ../../../.."
      ]
    },
    {
      "cell_type": "code",
      "execution_count": null,
      "metadata": {
        "id": "F0KrzDcv3CCB"
      },
      "outputs": [],
      "source": [
        "%pip install open-clip-torch==2.24.0"
      ]
    },
    {
      "cell_type": "code",
      "execution_count": 8,
      "metadata": {
        "id": "FpbzjAi35B8U"
      },
      "outputs": [],
      "source": [
        "import os\n",
        "import torch\n",
        "import detectron2\n",
        "from detectron2.engine import DefaultPredictor\n",
        "from detectron2.data.datasets import load_coco_json\n",
        "from detectron2.evaluation import inference_on_dataset\n",
        "from detectron2.data import build_detection_test_loader\n",
        "from detectron2.projects.deeplab import add_deeplab_config\n",
        "from fcclip import (\n",
        "    COCOInstanceNewBaselineDatasetMapper,\n",
        "    InstanceSegEvaluator,\n",
        "    MaskFormerInstanceDatasetMapper,\n",
        "    add_maskformer2_config,\n",
        "    add_fcclip_config\n",
        ")"
      ]
    },
    {
      "cell_type": "code",
      "execution_count": 9,
      "metadata": {
        "id": "MOT76Nk_7bvx"
      },
      "outputs": [],
      "source": [
        "data_dir_path = \"/content/drive/MyDrive/instseg/data/\""
      ]
    },
    {
      "cell_type": "code",
      "execution_count": 10,
      "metadata": {
        "id": "AJxEgkzZZkGY"
      },
      "outputs": [],
      "source": [
        "def register_coco_dataset(name, json_file, image_root):\n",
        "    detectron2.data.DatasetCatalog.register(\n",
        "        name,\n",
        "        lambda: load_coco_json(json_file, image_root, name),\n",
        "    )\n",
        "    detectron2.data.MetadataCatalog.get(name).set(\n",
        "        thing_classes=[\n",
        "            \"Can\",\n",
        "            \"Other\",\n",
        "            \"Bottle\",\n",
        "            \"Bottle cap\",\n",
        "            \"Cup\",\n",
        "            \"Lid\",\n",
        "            \"Plastic bag + wrapper\",\n",
        "            \"Pop tab\",\n",
        "            \"Straw\",\n",
        "            \"Cigarette\",\n",
        "        ]\n",
        "    )"
      ]
    },
    {
      "cell_type": "code",
      "execution_count": 11,
      "metadata": {
        "id": "gkfTEBMK6iK8"
      },
      "outputs": [],
      "source": [
        "def configure_model():\n",
        "    cfg = detectron2.config.get_cfg()\n",
        "    add_deeplab_config(cfg)\n",
        "    add_maskformer2_config(cfg)\n",
        "    add_fcclip_config(cfg)\n",
        "    cfg.merge_from_file(\"configs/coco/panoptic-segmentation/fcclip/fcclip_convnext_large_eval_coco.yaml\")\n",
        "    cfg.MODEL.WEIGHTS = (\n",
        "        \"/content/drive/MyDrive/instseg/fcclip_cocopan_r50.pth\"\n",
        "    )\n",
        "    cfg.MODEL.MASK_FORMER.TEST.INSTANCE_ON = True\n",
        "    cfg.MODEL.MASK_FORMER.TEST.SEMANTIC_ON = False\n",
        "    cfg.MODEL.MASK_FORMER.TEST.PANOPTIC_ON = False\n",
        "    cfg.MODEL.SEM_SEG_HEAD.NUM_CLASSES = 10  # Set the number of classes to match TACO10\n",
        "    cfg.MODEL.FC_CLIP.TEXT_SEQ_LEN = 128  # Text sequence length for CLIP\n",
        "    cfg.DATASETS.TEST = (\"taco10_test\",)\n",
        "    cfg.MODEL.DEVICE = \"cuda\"\n",
        "    cfg.freeze()\n",
        "    return cfg"
      ]
    },
    {
      "cell_type": "code",
      "execution_count": 12,
      "metadata": {
        "id": "sYXKsBBhaP8g"
      },
      "outputs": [],
      "source": [
        "register_coco_dataset(\n",
        "        name=\"taco10_test\",\n",
        "        json_file=f\"{data_dir_path}mapped_annotations_0_test.json\",\n",
        "        image_root=f\"{data_dir_path}images/\",\n",
        ")"
      ]
    },
    {
      "cell_type": "code",
      "execution_count": 13,
      "metadata": {
        "id": "uOz5zYcNakhJ"
      },
      "outputs": [],
      "source": [
        "cfg = configure_model()"
      ]
    },
    {
      "cell_type": "code",
      "execution_count": null,
      "metadata": {
        "id": "M75eO4ZNaazS"
      },
      "outputs": [],
      "source": [
        "predictor = DefaultPredictor(cfg)"
      ]
    },
    {
      "cell_type": "code",
      "execution_count": 15,
      "metadata": {
        "id": "Pntoo51Kzs1C",
        "colab": {
          "base_uri": "https://localhost:8080/"
        },
        "outputId": "9b71a03a-69ab-44ba-aaf7-4bec91f015e8"
      },
      "outputs": [
        {
          "output_type": "execute_result",
          "data": {
            "text/plain": [
              "namespace(name='taco10_test',\n",
              "          thing_classes=['Can',\n",
              "                         'Other',\n",
              "                         'Bottle',\n",
              "                         'Bottle cap',\n",
              "                         'Cup',\n",
              "                         'Lid',\n",
              "                         'Plastic bag + wrapper',\n",
              "                         'Pop tab',\n",
              "                         'Straw',\n",
              "                         'Cigarette'],\n",
              "          json_file='/content/drive/MyDrive/instseg/data/mapped_annotations_0_test.json')"
            ]
          },
          "metadata": {},
          "execution_count": 15
        }
      ],
      "source": [
        "detectron2.data.MetadataCatalog.get(\"taco10_test\").set(\n",
        "    json_file=f\"{data_dir_path}mapped_annotations_0_test.json\"\n",
        ")"
      ]
    },
    {
      "cell_type": "code",
      "execution_count": 16,
      "metadata": {
        "id": "desShM3LA4l2"
      },
      "outputs": [],
      "source": [
        "evaluator = InstanceSegEvaluator(\"taco10_test\",output_dir=\"./output\")"
      ]
    },
    {
      "cell_type": "code",
      "execution_count": null,
      "metadata": {
        "id": "m2Jmyq-N0SQ0"
      },
      "outputs": [],
      "source": [
        "test_loader = build_detection_test_loader(cfg, dataset_name=\"taco10_test\", mapper=COCOInstanceNewBaselineDatasetMapper(cfg, is_train=True))"
      ]
    },
    {
      "cell_type": "code",
      "execution_count": 18,
      "metadata": {
        "id": "XZHiQOiz0jCg",
        "colab": {
          "base_uri": "https://localhost:8080/"
        },
        "outputId": "d41e5b2c-95ce-40a6-9412-a65fce142b04"
      },
      "outputs": [
        {
          "output_type": "stream",
          "name": "stderr",
          "text": [
            "/usr/local/lib/python3.10/dist-packages/torch/functional.py:512: UserWarning: torch.meshgrid: in an upcoming release, it will be required to pass the indexing argument. (Triggered internally at ../aten/src/ATen/native/TensorShape.cpp:3587.)\n",
            "  return _VF.meshgrid(tensors, **kwargs)  # type: ignore[attr-defined]\n"
          ]
        },
        {
          "output_type": "stream",
          "name": "stdout",
          "text": [
            "Loading and preparing results...\n",
            "DONE (t=0.01s)\n",
            "creating index...\n",
            "index created!\n",
            " Average Precision  (AP) @[ IoU=0.50:0.95 | area=   all | maxDets=100 ] = 0.000\n",
            " Average Precision  (AP) @[ IoU=0.50      | area=   all | maxDets=100 ] = 0.000\n",
            " Average Precision  (AP) @[ IoU=0.75      | area=   all | maxDets=100 ] = 0.000\n",
            " Average Precision  (AP) @[ IoU=0.50:0.95 | area= small | maxDets=100 ] = 0.000\n",
            " Average Precision  (AP) @[ IoU=0.50:0.95 | area=medium | maxDets=100 ] = 0.000\n",
            " Average Precision  (AP) @[ IoU=0.50:0.95 | area= large | maxDets=100 ] = 0.000\n",
            " Average Recall     (AR) @[ IoU=0.50:0.95 | area=   all | maxDets=  1 ] = 0.000\n",
            " Average Recall     (AR) @[ IoU=0.50:0.95 | area=   all | maxDets= 10 ] = 0.000\n",
            " Average Recall     (AR) @[ IoU=0.50:0.95 | area=   all | maxDets=100 ] = 0.000\n",
            " Average Recall     (AR) @[ IoU=0.50:0.95 | area= small | maxDets=100 ] = 0.000\n",
            " Average Recall     (AR) @[ IoU=0.50:0.95 | area=medium | maxDets=100 ] = 0.000\n",
            " Average Recall     (AR) @[ IoU=0.50:0.95 | area= large | maxDets=100 ] = 0.000\n",
            "Loading and preparing results...\n",
            "DONE (t=0.34s)\n",
            "creating index...\n",
            "index created!\n",
            " Average Precision  (AP) @[ IoU=0.50:0.95 | area=   all | maxDets=100 ] = 0.000\n",
            " Average Precision  (AP) @[ IoU=0.50      | area=   all | maxDets=100 ] = 0.000\n",
            " Average Precision  (AP) @[ IoU=0.75      | area=   all | maxDets=100 ] = 0.000\n",
            " Average Precision  (AP) @[ IoU=0.50:0.95 | area= small | maxDets=100 ] = 0.000\n",
            " Average Precision  (AP) @[ IoU=0.50:0.95 | area=medium | maxDets=100 ] = 0.000\n",
            " Average Precision  (AP) @[ IoU=0.50:0.95 | area= large | maxDets=100 ] = 0.000\n",
            " Average Recall     (AR) @[ IoU=0.50:0.95 | area=   all | maxDets=  1 ] = 0.000\n",
            " Average Recall     (AR) @[ IoU=0.50:0.95 | area=   all | maxDets= 10 ] = 0.000\n",
            " Average Recall     (AR) @[ IoU=0.50:0.95 | area=   all | maxDets=100 ] = 0.000\n",
            " Average Recall     (AR) @[ IoU=0.50:0.95 | area= small | maxDets=100 ] = 0.000\n",
            " Average Recall     (AR) @[ IoU=0.50:0.95 | area=medium | maxDets=100 ] = 0.000\n",
            " Average Recall     (AR) @[ IoU=0.50:0.95 | area= large | maxDets=100 ] = 0.000\n"
          ]
        }
      ],
      "source": [
        "evaluation_results = inference_on_dataset(predictor.model, test_loader, evaluator)"
      ]
    },
    {
      "cell_type": "code",
      "source": [
        "print(evaluation_results)"
      ],
      "metadata": {
        "colab": {
          "base_uri": "https://localhost:8080/"
        },
        "id": "9Gugs4KZCccs",
        "outputId": "d92927dd-94bc-4ab6-cd58-41a429fd255a"
      },
      "execution_count": 19,
      "outputs": [
        {
          "output_type": "stream",
          "name": "stdout",
          "text": [
            "OrderedDict([('bbox', {'AP': 0.0, 'AP50': 0.0, 'AP75': 0.0, 'APs': 0.0, 'APm': 0.0, 'APl': 0.0, 'AP-Can': 0.0, 'AP-Other': 0.0, 'AP-Bottle': 0.0, 'AP-Bottle cap': 0.0, 'AP-Cup': 0.0, 'AP-Lid': 0.0, 'AP-Plastic bag + wrapper': 0.0, 'AP-Pop tab': 0.0, 'AP-Straw': 0.0, 'AP-Cigarette': 0.0}), ('segm', {'AP': 0.0, 'AP50': 0.0, 'AP75': 0.0, 'APs': 0.0, 'APm': 0.0, 'APl': 0.0, 'AP-Can': 0.0, 'AP-Other': 0.0, 'AP-Bottle': 0.0, 'AP-Bottle cap': 0.0, 'AP-Cup': 0.0, 'AP-Lid': 0.0, 'AP-Plastic bag + wrapper': 0.0, 'AP-Pop tab': 0.0, 'AP-Straw': 0.0, 'AP-Cigarette': 0.0})])\n"
          ]
        }
      ]
    }
  ],
  "metadata": {
    "accelerator": "GPU",
    "colab": {
      "gpuType": "A100",
      "machine_shape": "hm",
      "provenance": []
    },
    "kernelspec": {
      "display_name": "Python 3",
      "name": "python3"
    },
    "language_info": {
      "name": "python"
    }
  },
  "nbformat": 4,
  "nbformat_minor": 0
}